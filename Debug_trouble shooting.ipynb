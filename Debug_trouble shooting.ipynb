{
 "cells": [
  {
   "cell_type": "code",
   "execution_count": 1,
   "id": "62f034f9",
   "metadata": {},
   "outputs": [
    {
     "name": "stdout",
     "output_type": "stream",
     "text": [
      "Prefix: 1900-02-11--10163683\n",
      "  1900-02-11--1016368306--113.PDF\n",
      "  1900-02-11--1016368323--114.PDF\n",
      "Prefix: 1900-02-17--10163031\n",
      "  1900-02-17--1016303112--128.PDF\n",
      "  1900-02-17--1016303145--127.PDF\n",
      "Prefix: 1900-02-17--10163783\n",
      "  1900-02-17--1016378348--125.PDF\n",
      "  1900-02-17--1016378352--126.PDF\n",
      "Prefix: 1900-02-18--10163684\n",
      "  1900-02-18--1016368406--132.PDF\n",
      "  1900-02-18--1016368424--133.PDF\n",
      "Prefix: 1900-02-18--10163785\n",
      "  1900-02-18--1016378552--134.PDF\n",
      "  1900-02-18--1016378592--135.PDF\n",
      "Prefix: 1900-07-22--10160849\n",
      "  1900-07-22--1016084937--474.PDF\n",
      "  1900-07-22--1016084970--475.PDF\n",
      "Prefix: 1900-07-28--10162342\n",
      "  1900-07-28--1016234264--486.PDF\n",
      "  1900-07-28--1016234272--487.PDF\n",
      "Prefix: 1900-11-10--10161036\n",
      "  1900-11-10--1016103667--690.PDF\n",
      "  1900-11-10--1016103672--685.PDF\n",
      "  1900-11-10--1016103688--686.PDF\n",
      "Prefix: 1900-11-12--10136439\n",
      "  1900-11-12--1013643909--695.PDF\n",
      "  1900-11-12--1013643911--696.PDF\n",
      "Prefix: 1900-12-13--10136416\n",
      "  1900-12-13--1013641609--785.PDF\n",
      "  1900-12-13--1013641693--787.PDF\n",
      "Prefix: 1901-07-14--10136354\n",
      "  1901-07-14--1013635415--1270.PDF\n",
      "  1901-07-14--1013635454--1271.PDF\n",
      "Prefix: 1901-07-19--19863880\n",
      "  1901-07-19--1986388048--1277.PDF\n",
      "  1901-07-19--1986388070--1278.PDF\n"
     ]
    }
   ],
   "source": [
    "import os\n",
    "from collections import defaultdict\n",
    "\n",
    "def find_files_with_same_prefix(directory, prefix_length=20):\n",
    "    prefix_dict = defaultdict(list)\n",
    "\n",
    "    for filename in os.listdir(directory):\n",
    "        if os.path.isfile(os.path.join(directory, filename)):\n",
    "            prefix = filename[:prefix_length]\n",
    "            prefix_dict[prefix].append(filename)\n",
    "\n",
    "    # Filter out prefixes that do not have multiple files\n",
    "    result = {prefix: files for prefix, files in prefix_dict.items() if len(files) > 1}\n",
    "\n",
    "    return result\n",
    "\n",
    "# Set the directory containing the files\n",
    "directory = r\"T:\\1900-1910 (6930)\"\n",
    "\n",
    "files_with_same_prefix = find_files_with_same_prefix(directory)\n",
    "for prefix, files in files_with_same_prefix.items():\n",
    "    print(f\"Prefix: {prefix}\")\n",
    "    for file in files:\n",
    "        print(f\"  {file}\")"
   ]
  },
  {
   "cell_type": "code",
   "execution_count": 3,
   "id": "11c179fe",
   "metadata": {},
   "outputs": [
    {
     "name": "stdout",
     "output_type": "stream",
     "text": [
      "Suffix: -1782.PDF\n",
      "  1879-11-21--93748970--1782.PDF\n",
      "  1902-02-27--96222265--1782.PDF\n"
     ]
    }
   ],
   "source": [
    "import os\n",
    "from collections import defaultdict\n",
    "\n",
    "def find_files_with_same_suffix(directory, suffix_length=9):\n",
    "    suffix_dict = defaultdict(list)\n",
    "\n",
    "    for filename in os.listdir(directory):\n",
    "        if os.path.isfile(os.path.join(directory, filename)):\n",
    "            suffix = filename[-suffix_length:]\n",
    "            suffix_dict[suffix].append(filename)\n",
    "\n",
    "    # Filter out suffixes that do not have multiple files\n",
    "    result = {suffix: files for suffix, files in suffix_dict.items() if len(files) > 1}\n",
    "\n",
    "    return result\n",
    "\n",
    "# Set the directory containing the files\n",
    "directory = r\"T:\\1900-1910 (6930)\"\n",
    "\n",
    "files_with_same_suffix = find_files_with_same_suffix(directory)\n",
    "for suffix, files in files_with_same_suffix.items():\n",
    "    print(f\"Suffix: {suffix}\")\n",
    "    for file in files:\n",
    "        print(f\"  {file}\")\n"
   ]
  },
  {
   "cell_type": "code",
   "execution_count": null,
   "id": "29aa18dc",
   "metadata": {},
   "outputs": [],
   "source": []
  },
  {
   "cell_type": "code",
   "execution_count": null,
   "id": "2deb94f8",
   "metadata": {},
   "outputs": [],
   "source": []
  },
  {
   "cell_type": "code",
   "execution_count": null,
   "id": "2f97a65f",
   "metadata": {},
   "outputs": [],
   "source": []
  }
 ],
 "metadata": {
  "kernelspec": {
   "display_name": "Python 3 (ipykernel)",
   "language": "python",
   "name": "python3"
  },
  "language_info": {
   "codemirror_mode": {
    "name": "ipython",
    "version": 3
   },
   "file_extension": ".py",
   "mimetype": "text/x-python",
   "name": "python",
   "nbconvert_exporter": "python",
   "pygments_lexer": "ipython3",
   "version": "3.9.12"
  }
 },
 "nbformat": 4,
 "nbformat_minor": 5
}
